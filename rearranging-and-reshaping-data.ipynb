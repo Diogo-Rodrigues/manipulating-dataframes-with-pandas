{
 "cells": [
  {
   "cell_type": "markdown",
   "metadata": {},
   "source": [
    "# Rearranging and reshaping data"
   ]
  },
  {
   "cell_type": "markdown",
   "metadata": {},
   "source": [
    "Here, you will learn how to reshape your DataFrames using techniques such as pivoting, melting, stacking, and unstacking. These are powerful techniques that allow you to tidy and rearrange your data into the format that allows you to most easily analyze it for insights."
   ]
  },
  {
   "cell_type": "markdown",
   "metadata": {},
   "source": [
    "1. [ Pivoting DataFrames. ](#1)<br>\n",
    "    1.1 [ Pivoting a single variable. ](#11)<br>\n",
    "    1.2 [ Pivoting all variables. ](#12)<br><br>\n",
    "\n",
    "2. [ Stacking & unstacking DataFrames. ](#2)<br>\n",
    "    2.1 [ Stacking & unstacking I. ](#21)<br>\n",
    "    2.2 [ Stacking & unstacking II. ](#22)<br>\n",
    "    2.3 [ Restoring the index order. ](#23)<br><br>\n",
    "\n",
    "3. [ Melting DataFrames. ](#3)<br>\n",
    "    3.1 [ Adding names for readability. ](#31)<br>\n",
    "    3.2 [ Going from wide to long. ](#32)<br>\n",
    "    3.3 [ Obtaining key-value pairs with melt(). ](#33)<br><br>\n",
    "\n",
    "4. [ Pivot tables. ](#4)<br>\n",
    "    4.1 [ Setting up a pivot table. ](#41)<br>\n",
    "    4.2 [ Using other aggregations in pivot tables. ](#42)<br>\n",
    "    4.3 [ Using margins in pivot tables. ](#43)<br><br>\n"
   ]
  },
  {
   "cell_type": "markdown",
   "metadata": {},
   "source": [
    "<a name=\"1\"></a>\n",
    "### 1. Pivoting DataFrames"
   ]
  },
  {
   "cell_type": "markdown",
   "metadata": {},
   "source": [
    "<a name=\"11\"></a>\n",
    "#### 1.1 Pivoting a single variable"
   ]
  },
  {
   "cell_type": "markdown",
   "metadata": {},
   "source": [
    "<a name=\"12\"></a>\n",
    "#### 1.2 Pivoting all variables"
   ]
  },
  {
   "cell_type": "markdown",
   "metadata": {},
   "source": [
    "<a name=\"2\"></a>\n",
    "### 2. Stacking & unstacking DataFrames"
   ]
  },
  {
   "cell_type": "markdown",
   "metadata": {},
   "source": [
    "<a name=\"21\"></a>\n",
    "#### 2.1 Stacking & unstacking I"
   ]
  },
  {
   "cell_type": "markdown",
   "metadata": {},
   "source": [
    "<a name=\"22\"></a>\n",
    "#### 2.2 Stacking & unstacking II"
   ]
  },
  {
   "cell_type": "markdown",
   "metadata": {},
   "source": [
    "<a name=\"23\"></a>\n",
    "#### 2.3 Restoring the index order"
   ]
  },
  {
   "cell_type": "markdown",
   "metadata": {},
   "source": [
    "<a name=\"3\"></a>\n",
    "### 3. Melting DataFrames"
   ]
  },
  {
   "cell_type": "markdown",
   "metadata": {},
   "source": [
    "<a name=\"31\"></a>\n",
    "#### 3.1 Adding names for readability"
   ]
  },
  {
   "cell_type": "markdown",
   "metadata": {},
   "source": [
    "<a name=\"32\"></a>\n",
    "#### 3.2 Going from wide to long"
   ]
  },
  {
   "cell_type": "markdown",
   "metadata": {},
   "source": [
    "<a name=\"33\"></a>\n",
    "#### 3.3 Obtaining key-value pairs with melt()"
   ]
  },
  {
   "cell_type": "markdown",
   "metadata": {},
   "source": [
    "<a name=\"4\"></a>\n",
    "### 4. Pivot tables"
   ]
  },
  {
   "cell_type": "markdown",
   "metadata": {},
   "source": [
    "<a name=\"41\"></a>\n",
    "#### 4.1 Setting up a pivot table"
   ]
  },
  {
   "cell_type": "markdown",
   "metadata": {},
   "source": [
    "<a name=\"42\"></a>\n",
    "#### 4.2 Using other aggregations in pivot tables"
   ]
  },
  {
   "cell_type": "markdown",
   "metadata": {},
   "source": [
    "<a name=\"43\"></a>\n",
    "#### 4.3 Using margins in pivot tables"
   ]
  },
  {
   "cell_type": "markdown",
   "metadata": {},
   "source": [
    "----------------------------------------------------------------------------------------------------------"
   ]
  }
 ],
 "metadata": {
  "kernelspec": {
   "display_name": "Python 3",
   "language": "python",
   "name": "python3"
  },
  "language_info": {
   "codemirror_mode": {
    "name": "ipython",
    "version": 3
   },
   "file_extension": ".py",
   "mimetype": "text/x-python",
   "name": "python",
   "nbconvert_exporter": "python",
   "pygments_lexer": "ipython3",
   "version": "3.6.5"
  }
 },
 "nbformat": 4,
 "nbformat_minor": 2
}
