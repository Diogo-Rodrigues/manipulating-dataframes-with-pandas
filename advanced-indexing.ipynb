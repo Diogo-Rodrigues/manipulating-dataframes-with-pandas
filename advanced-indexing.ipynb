{
 "cells": [
  {
   "cell_type": "markdown",
   "metadata": {},
   "source": [
    "# Advanced indexing"
   ]
  },
  {
   "cell_type": "markdown",
   "metadata": {},
   "source": [
    "This notebook explores advanced indexing techniques like MultiIndexes, or hierarchical indexes, and shows how to interact with and extract data from them."
   ]
  },
  {
   "cell_type": "markdown",
   "metadata": {},
   "source": [
    "1. [ Index objects and labeled data. ](#1)<br>\n",
    "    1.1 [ Changing index of a DataFrame. ](#11)<br>\n",
    "    1.2 [ Changing index name labels. ](#12)<br>\n",
    "    1.3 [ Building an index, then a DataFrame. ](#13)<br><br>\n",
    "\n",
    "2. [ Hierarchical indexing. ](#2)<br>\n",
    "    2.1 [Extracting data with a MultiIndex.](#21)<br>\n",
    "    2.2 [Setting & sorting a MultiIndex.](#22)<br>\n",
    "    2.3 [Using .loc\\[\\] with nonunique indexes.](#23)<br>\n",
    "    2.4 [Indexing multiple levels of a MultiIndex.](#24)<br>"
   ]
  },
  {
   "cell_type": "markdown",
   "metadata": {},
   "source": [
    "<a name=\"1\"></a>\n",
    "### 1. Index objects and labeled data"
   ]
  },
  {
   "cell_type": "markdown",
   "metadata": {},
   "source": [
    "<a name=\"11\"></a>\n",
    "#### 1.1 Changing index of a DataFrame"
   ]
  },
  {
   "cell_type": "markdown",
   "metadata": {},
   "source": [
    "Import libraries"
   ]
  },
  {
   "cell_type": "code",
   "execution_count": 1,
   "metadata": {},
   "outputs": [],
   "source": [
    "import pandas as pd"
   ]
  },
  {
   "cell_type": "markdown",
   "metadata": {},
   "source": [
    "Read dataset into a pandas dataFrame"
   ]
  },
  {
   "cell_type": "code",
   "execution_count": 2,
   "metadata": {},
   "outputs": [],
   "source": [
    "filename = './datasets/sales/sales.csv'\n",
    "sales = pd.read_csv(filename, index_col='month')"
   ]
  },
  {
   "cell_type": "markdown",
   "metadata": {},
   "source": [
    "Create the list of new indexes."
   ]
  },
  {
   "cell_type": "code",
   "execution_count": 3,
   "metadata": {},
   "outputs": [],
   "source": [
    "new_idx = [idx.upper() for idx in sales.index]"
   ]
  },
  {
   "cell_type": "markdown",
   "metadata": {},
   "source": [
    "Assign new_idx to sales.index and print the sales DataFrame"
   ]
  },
  {
   "cell_type": "markdown",
   "metadata": {},
   "source": [
    "sales.index = new_idx\n",
    "print(sales.head())"
   ]
  },
  {
   "cell_type": "markdown",
   "metadata": {},
   "source": [
    "<a name=\"12\"></a>\n",
    "### 1.2 Changing index name labels"
   ]
  },
  {
   "cell_type": "markdown",
   "metadata": {},
   "source": [
    "Assign the string **'MONTHS'** to **sales.index.name** and print the dataframe"
   ]
  },
  {
   "cell_type": "code",
   "execution_count": 5,
   "metadata": {},
   "outputs": [
    {
     "name": "stdout",
     "output_type": "stream",
     "text": [
      "        eggs  salt  spam\n",
      "MONTHS                  \n",
      "JAN       47  12.0    17\n",
      "FEB      110  50.0    31\n",
      "MAR      221  89.0    72\n",
      "APR       77  87.0    20\n",
      "MAY      132   NaN    52\n",
      "JUN      205  60.0    55\n",
      "PRODUCTS  eggs  salt  spam\n",
      "MONTHS                    \n",
      "JAN         47  12.0    17\n",
      "FEB        110  50.0    31\n",
      "MAR        221  89.0    72\n",
      "APR         77  87.0    20\n",
      "MAY        132   NaN    52\n",
      "JUN        205  60.0    55\n"
     ]
    }
   ],
   "source": [
    "sales.index.name = 'MONTHS'\n",
    "print(sales)"
   ]
  },
  {
   "cell_type": "markdown",
   "metadata": {},
   "source": [
    "Assign the string **'PRODUCTS'** to **sales.columns.name** and print the dataframe"
   ]
  },
  {
   "cell_type": "code",
   "execution_count": null,
   "metadata": {},
   "outputs": [],
   "source": [
    "sales.columns.name = 'PRODUCTS'\n",
    "print(sales)"
   ]
  },
  {
   "cell_type": "markdown",
   "metadata": {},
   "source": [
    "<a name=\"13\"></a>\n",
    "### 1.3 Building an index, then a DataFrame"
   ]
  },
  {
   "cell_type": "markdown",
   "metadata": {},
   "source": [
    "Generate the **list of months** and assign it to **sales.index**"
   ]
  },
  {
   "cell_type": "code",
   "execution_count": 7,
   "metadata": {},
   "outputs": [
    {
     "name": "stdout",
     "output_type": "stream",
     "text": [
      "PRODUCTS  eggs  salt  spam\n",
      "Jan         47  12.0    17\n",
      "Feb        110  50.0    31\n",
      "Mar        221  89.0    72\n",
      "Apr         77  87.0    20\n",
      "May        132   NaN    52\n",
      "Jun        205  60.0    55\n"
     ]
    }
   ],
   "source": [
    "months = ['Jan', 'Feb', 'Mar', 'Apr', 'May', 'Jun']\n",
    "sales.index = months\n",
    "print(sales)"
   ]
  },
  {
   "cell_type": "markdown",
   "metadata": {},
   "source": [
    "<a name=\"2\"></a>\n",
    "### 2. Hierarchical indexing"
   ]
  },
  {
   "cell_type": "markdown",
   "metadata": {},
   "source": [
    "<a name=\"21\"></a>\n",
    "### 2.1 Extracting data with a MultiIndex"
   ]
  },
  {
   "cell_type": "markdown",
   "metadata": {},
   "source": [
    "Read dataset into a pandas dataFrame"
   ]
  },
  {
   "cell_type": "code",
   "execution_count": 36,
   "metadata": {},
   "outputs": [
    {
     "name": "stdout",
     "output_type": "stream",
     "text": [
      "  state  month  eggs  salt  spam\n",
      "0    CA      1    47  12.0    17\n",
      "1    CA      2   110  50.0    31\n",
      "2    NY      1   221  89.0    72\n",
      "3    NY      2    77  87.0    20\n",
      "4    TX      1   132   NaN    52\n",
      "5    TX      2   205  60.0    55\n"
     ]
    }
   ],
   "source": [
    "filename2 = './datasets/sales/sales2.csv'\n",
    "original_sales = pd.read_csv(filename2)\n",
    "print(original_sales)"
   ]
  },
  {
   "cell_type": "markdown",
   "metadata": {},
   "source": [
    "Set **'state'** and **'month'** columns as a **MultiIndex.**"
   ]
  },
  {
   "cell_type": "code",
   "execution_count": 37,
   "metadata": {},
   "outputs": [
    {
     "name": "stdout",
     "output_type": "stream",
     "text": [
      "             eggs  salt  spam\n",
      "state month                  \n",
      "CA    1        47  12.0    17\n",
      "      2       110  50.0    31\n",
      "NY    1       221  89.0    72\n",
      "      2        77  87.0    20\n",
      "TX    1       132   NaN    52\n",
      "      2       205  60.0    55\n"
     ]
    }
   ],
   "source": [
    "sales2 = original_sales.set_index(['state', 'month'])\n",
    "print(sales2)"
   ]
  },
  {
   "cell_type": "markdown",
   "metadata": {},
   "source": [
    "Print ```sales.loc[['CA', 'TX']]```. Note how New York is **excluded.**"
   ]
  },
  {
   "cell_type": "code",
   "execution_count": 38,
   "metadata": {},
   "outputs": [
    {
     "name": "stdout",
     "output_type": "stream",
     "text": [
      "             eggs  salt  spam\n",
      "state month                  \n",
      "CA    1        47  12.0    17\n",
      "      2       110  50.0    31\n",
      "TX    1       132   NaN    52\n",
      "      2       205  60.0    55\n"
     ]
    }
   ],
   "source": [
    "print(sales2.loc[['CA', 'TX']])"
   ]
  },
  {
   "cell_type": "markdown",
   "metadata": {},
   "source": [
    "Print ```sales['CA':'TX']```. Note how New York is **included.**"
   ]
  },
  {
   "cell_type": "code",
   "execution_count": 39,
   "metadata": {},
   "outputs": [
    {
     "name": "stdout",
     "output_type": "stream",
     "text": [
      "             eggs  salt  spam\n",
      "state month                  \n",
      "CA    1        47  12.0    17\n",
      "      2       110  50.0    31\n",
      "NY    1       221  89.0    72\n",
      "      2        77  87.0    20\n",
      "TX    1       132   NaN    52\n",
      "      2       205  60.0    55\n"
     ]
    }
   ],
   "source": [
    "print(sales2['CA':'TX'])"
   ]
  },
  {
   "cell_type": "markdown",
   "metadata": {},
   "source": [
    "<a name=\"22\"></a>\n",
    "### 2.2 Setting & sorting a MultiIndex"
   ]
  },
  {
   "cell_type": "markdown",
   "metadata": {},
   "source": [
    "Sort the MultiIndex of the dataframe"
   ]
  },
  {
   "cell_type": "code",
   "execution_count": 40,
   "metadata": {},
   "outputs": [
    {
     "name": "stdout",
     "output_type": "stream",
     "text": [
      "             eggs  salt  spam\n",
      "state month                  \n",
      "CA    1        47  12.0    17\n",
      "      2       110  50.0    31\n",
      "NY    1       221  89.0    72\n",
      "      2        77  87.0    20\n",
      "TX    1       132   NaN    52\n",
      "      2       205  60.0    55\n"
     ]
    }
   ],
   "source": [
    "sales2 = sales2.sort_index()\n",
    "print(sales2)"
   ]
  },
  {
   "cell_type": "markdown",
   "metadata": {},
   "source": [
    "<a name=\"23\"></a>\n",
    "### 2.3 Using .loc[] with nonunique indexes"
   ]
  },
  {
   "cell_type": "code",
   "execution_count": 42,
   "metadata": {},
   "outputs": [
    {
     "name": "stdout",
     "output_type": "stream",
     "text": [
      "       month  eggs  salt  spam\n",
      "state                         \n",
      "CA         1    47  12.0    17\n",
      "CA         2   110  50.0    31\n",
      "NY         1   221  89.0    72\n",
      "NY         2    77  87.0    20\n",
      "TX         1   132   NaN    52\n",
      "TX         2   205  60.0    55\n",
      "       month  eggs  salt  spam\n",
      "state                         \n",
      "NY         1   221  89.0    72\n",
      "NY         2    77  87.0    20\n"
     ]
    }
   ],
   "source": [
    "# Set the index to the column 'state': sales\n",
    "sales = original_sales.set_index('state')\n",
    "\n",
    "# Print the sales DataFrame\n",
    "print(sales)\n",
    "\n",
    "# Access the data from 'NY'\n",
    "print(sales.loc['NY'])"
   ]
  },
  {
   "cell_type": "markdown",
   "metadata": {},
   "source": [
    "<a name=\"24\"></a>\n",
    "### 2.4 Indexing multiple levels of a MultiIndex"
   ]
  },
  {
   "cell_type": "code",
   "execution_count": 58,
   "metadata": {},
   "outputs": [
    {
     "name": "stdout",
     "output_type": "stream",
     "text": [
      "             eggs  salt  spam\n",
      "state month                  \n",
      "CA    1        47  12.0    17\n",
      "      2       110  50.0    31\n",
      "NY    1       221  89.0    72\n",
      "      2        77  87.0    20\n",
      "TX    1       132   NaN    52\n",
      "      2       205  60.0    55\n"
     ]
    }
   ],
   "source": [
    "sales2 = original_sales.set_index(['state', 'month'])\n",
    "print(sales2)"
   ]
  },
  {
   "cell_type": "code",
   "execution_count": 72,
   "metadata": {},
   "outputs": [
    {
     "name": "stdout",
     "output_type": "stream",
     "text": [
      "eggs    221.0\n",
      "salt     89.0\n",
      "spam     72.0\n",
      "Name: (NY, 1), dtype: float64\n",
      "             eggs  salt  spam\n",
      "state month                  \n",
      "CA    2       110  50.0    31\n",
      "TX    2       205  60.0    55\n",
      "             eggs  salt  spam\n",
      "state month                  \n",
      "CA    2       110  50.0    31\n",
      "NY    2        77  87.0    20\n",
      "TX    2       205  60.0    55\n"
     ]
    }
   ],
   "source": [
    "# Look up data for NY in month 1: NY_month1\n",
    "NY_month1 = sales2.loc[('NY', 1)]\n",
    "print(NY_month1)\n",
    "\n",
    "# Look up data for CA and TX in month 2: CA_TX_month2\n",
    "CA_TX_month2 = sales2.loc[(['CA', 'TX'], 2), :]\n",
    "print(CA_TX_month2)\n",
    "\n",
    "# Look up data for all states in month 2: all_month2\n",
    "all_month2 = sales2.loc[(slice(None), 2), :]\n",
    "print(all_month2)"
   ]
  },
  {
   "cell_type": "markdown",
   "metadata": {},
   "source": [
    "----------------------------------------------------------------------------------------------------------"
   ]
  }
 ],
 "metadata": {
  "kernelspec": {
   "display_name": "Python 3",
   "language": "python",
   "name": "python3"
  },
  "language_info": {
   "codemirror_mode": {
    "name": "ipython",
    "version": 3
   },
   "file_extension": ".py",
   "mimetype": "text/x-python",
   "name": "python",
   "nbconvert_exporter": "python",
   "pygments_lexer": "ipython3",
   "version": "3.6.5"
  }
 },
 "nbformat": 4,
 "nbformat_minor": 2
}
